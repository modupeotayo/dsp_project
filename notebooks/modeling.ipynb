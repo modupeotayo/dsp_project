{
 "cells": [
  {
   "cell_type": "markdown",
   "metadata": {},
   "source": [
    "simple model flow"
   ]
  },
  {
   "cell_type": "code",
   "execution_count": 1,
   "metadata": {},
   "outputs": [],
   "source": [
    "import pandas as pd\n",
    "import numpy as np\n",
    "import joblib\n",
    "from sklearn.model_selection import train_test_split\n",
    "from sklearn.preprocessing import StandardScaler, OneHotEncoder, LabelEncoder\n",
    "from sklearn.metrics import mean_squared_log_error\n",
    "from sklearn.ensemble import RandomForestClassifier\n",
    "from sklearn.metrics import accuracy_score, precision_score, recall_score, roc_auc_score"
   ]
  },
  {
   "cell_type": "code",
   "execution_count": 2,
   "metadata": {},
   "outputs": [],
   "source": [
    "maintanence_df = pd.read_csv('../data/maintenance.csv')"
   ]
  },
  {
   "cell_type": "markdown",
   "metadata": {},
   "source": [
    "Configs."
   ]
  },
  {
   "cell_type": "code",
   "execution_count": 5,
   "metadata": {},
   "outputs": [],
   "source": [
    "NUMERICAL = ['Air temperature [K]','Process temperature [K]','Rotational speed [rpm]','Torque [Nm]','Tool wear [min]']\n",
    "ORDINAL = ['Type']\n",
    "FEATURES = NUMERICAL + ORDINAL\n",
    "TARGET = ['Target']\n",
    "\n",
    "MODEL_PATH = \"../models/rfmodel.joblib\"\n",
    "SCALER_PATH = \"../models/scaler.joblib\"\n",
    "LENCODER_PATH = \"../models/lencoder.joblib\""
   ]
  },
  {
   "cell_type": "markdown",
   "metadata": {},
   "source": [
    "Processing"
   ]
  },
  {
   "cell_type": "code",
   "execution_count": 27,
   "metadata": {},
   "outputs": [],
   "source": [
    "def selected_split(data: pd.DataFrame) -> pd.DataFrame:\n",
    "    X = data[FEATURES]\n",
    "    y = data[TARGET]\n",
    "    X_train, X_test, y_train, y_test = train_test_split(\n",
    "        X, y, test_size=0.2, random_state=42)\n",
    "    return X_train, X_test, y_train, y_test"
   ]
  },
  {
   "cell_type": "code",
   "execution_count": 28,
   "metadata": {},
   "outputs": [],
   "source": [
    "def scale(data: pd.DataFrame, to_train: bool) -> np.ndarray:\n",
    "    if to_train:\n",
    "        scaler = StandardScaler()\n",
    "        fitted_scaler = scaler.fit(data[NUMERICAL])\n",
    "        joblib.dump(fitted_scaler, SCALER_PATH)\n",
    "        scaled_set = fitted_scaler.transform(data[NUMERICAL])\n",
    "    else:\n",
    "        joblib_scaler = joblib.load(SCALER_PATH)\n",
    "        scaled_set = joblib_scaler.transform(data[NUMERICAL])\n",
    "    return scaled_set"
   ]
  },
  {
   "cell_type": "code",
   "execution_count": 6,
   "metadata": {},
   "outputs": [],
   "source": [
    "X = maintanence_df[FEATURES]\n",
    "y = maintanence_df[TARGET]\n",
    "\n",
    "X_train, X_test, y_train, y_test = train_test_split(X, y, test_size=0.2, random_state=42)"
   ]
  },
  {
   "cell_type": "code",
   "execution_count": 7,
   "metadata": {},
   "outputs": [],
   "source": [
    "scaler = StandardScaler()\n",
    "l_encoder = LabelEncoder()"
   ]
  },
  {
   "cell_type": "code",
   "execution_count": 8,
   "metadata": {},
   "outputs": [],
   "source": [
    "fitted_scaler = scaler.fit(X_train[NUMERICAL])\n",
    "joblib.dump(fitted_scaler, SCALER_PATH)\n",
    "scaled_set = fitted_scaler.transform(X_train[NUMERICAL])"
   ]
  },
  {
   "cell_type": "code",
   "execution_count": 56,
   "metadata": {},
   "outputs": [],
   "source": [
    "def to_oned(data: pd.DataFrame)-> np.ndarray:\n",
    "    nparr = np.array(data)\n",
    "    oneD = nparr.ravel()\n",
    "    return oneD"
   ]
  },
  {
   "cell_type": "code",
   "execution_count": 30,
   "metadata": {},
   "outputs": [
    {
     "name": "stdout",
     "output_type": "stream",
     "text": [
      "<class 'numpy.ndarray'>\n"
     ]
    },
    {
     "data": {
      "text/plain": [
       "array(['L', 'L', 'L', ..., 'H', 'H', 'L'], dtype=object)"
      ]
     },
     "execution_count": 30,
     "metadata": {},
     "output_type": "execute_result"
    }
   ],
   "source": [
    "var = np.array(X_train[ORDINAL])\n",
    "newvar = var.ravel()\n",
    "newvar"
   ]
  },
  {
   "cell_type": "code",
   "execution_count": 49,
   "metadata": {},
   "outputs": [
    {
     "data": {
      "text/plain": [
       "array(['L', 'L', 'L', ..., 'H', 'H', 'L'], dtype=object)"
      ]
     },
     "execution_count": 49,
     "metadata": {},
     "output_type": "execute_result"
    }
   ],
   "source": [
    "to_oned(X_train[ORDINAL])"
   ]
  },
  {
   "cell_type": "code",
   "execution_count": 48,
   "metadata": {},
   "outputs": [],
   "source": [
    "def lencode(data: pd.DataFrame, to_train: bool) -> np.ndarray:\n",
    "    if to_train:\n",
    "        l_encoder = LabelEncoder()\n",
    "        fitted_lencoder = l_encoder.fit(data[ORDINAL])\n",
    "        joblib.dump(fitted_lencoder, LENCODER_PATH)\n",
    "        encoded_set = fitted_lencoder.transform(data[ORDINAL])\n",
    "    else:\n",
    "        joblib_encoder = joblib.load(LENCODER_PATH)\n",
    "        encoded_set = joblib_encoder.transform(data[ORDINAL])\n",
    "    return encoded_set"
   ]
  },
  {
   "cell_type": "code",
   "execution_count": 10,
   "metadata": {},
   "outputs": [],
   "source": [
    "fitted_lcoder = l_encoder.fit(newvar)\n",
    "joblib.dump(fitted_lcoder,LENCODER_PATH)\n",
    "labelencoded_set = fitted_lcoder.transform(newvar)"
   ]
  },
  {
   "cell_type": "code",
   "execution_count": 11,
   "metadata": {},
   "outputs": [
    {
     "data": {
      "text/html": [
       "<div>\n",
       "<style scoped>\n",
       "    .dataframe tbody tr th:only-of-type {\n",
       "        vertical-align: middle;\n",
       "    }\n",
       "\n",
       "    .dataframe tbody tr th {\n",
       "        vertical-align: top;\n",
       "    }\n",
       "\n",
       "    .dataframe thead th {\n",
       "        text-align: right;\n",
       "    }\n",
       "</style>\n",
       "<table border=\"1\" class=\"dataframe\">\n",
       "  <thead>\n",
       "    <tr style=\"text-align: right;\">\n",
       "      <th></th>\n",
       "      <th>Air temperature [K]</th>\n",
       "      <th>Process temperature [K]</th>\n",
       "      <th>Rotational speed [rpm]</th>\n",
       "      <th>Torque [Nm]</th>\n",
       "      <th>Tool wear [min]</th>\n",
       "    </tr>\n",
       "  </thead>\n",
       "  <tbody>\n",
       "    <tr>\n",
       "      <th>0</th>\n",
       "      <td>-0.854066</td>\n",
       "      <td>-0.609589</td>\n",
       "      <td>0.427634</td>\n",
       "      <td>-0.892696</td>\n",
       "      <td>1.375035</td>\n",
       "    </tr>\n",
       "    <tr>\n",
       "      <th>1</th>\n",
       "      <td>-0.904014</td>\n",
       "      <td>-1.080528</td>\n",
       "      <td>-0.834945</td>\n",
       "      <td>1.382187</td>\n",
       "      <td>0.457620</td>\n",
       "    </tr>\n",
       "    <tr>\n",
       "      <th>2</th>\n",
       "      <td>-0.904014</td>\n",
       "      <td>-1.484190</td>\n",
       "      <td>-0.059677</td>\n",
       "      <td>-0.892696</td>\n",
       "      <td>1.359218</td>\n",
       "    </tr>\n",
       "    <tr>\n",
       "      <th>3</th>\n",
       "      <td>0.444571</td>\n",
       "      <td>0.534121</td>\n",
       "      <td>0.333495</td>\n",
       "      <td>-0.702288</td>\n",
       "      <td>-1.598655</td>\n",
       "    </tr>\n",
       "    <tr>\n",
       "      <th>4</th>\n",
       "      <td>0.694309</td>\n",
       "      <td>0.332290</td>\n",
       "      <td>0.178441</td>\n",
       "      <td>-0.612094</td>\n",
       "      <td>1.580663</td>\n",
       "    </tr>\n",
       "  </tbody>\n",
       "</table>\n",
       "</div>"
      ],
      "text/plain": [
       "   Air temperature [K]  Process temperature [K]  Rotational speed [rpm]  \\\n",
       "0            -0.854066                -0.609589                0.427634   \n",
       "1            -0.904014                -1.080528               -0.834945   \n",
       "2            -0.904014                -1.484190               -0.059677   \n",
       "3             0.444571                 0.534121                0.333495   \n",
       "4             0.694309                 0.332290                0.178441   \n",
       "\n",
       "   Torque [Nm]  Tool wear [min]  \n",
       "0    -0.892696         1.375035  \n",
       "1     1.382187         0.457620  \n",
       "2    -0.892696         1.359218  \n",
       "3    -0.702288        -1.598655  \n",
       "4    -0.612094         1.580663  "
      ]
     },
     "execution_count": 11,
     "metadata": {},
     "output_type": "execute_result"
    }
   ],
   "source": [
    "scaled_df = pd.DataFrame(scaled_set, columns=NUMERICAL)\n",
    "scaled_df.head()"
   ]
  },
  {
   "cell_type": "code",
   "execution_count": 12,
   "metadata": {},
   "outputs": [
    {
     "data": {
      "text/html": [
       "<div>\n",
       "<style scoped>\n",
       "    .dataframe tbody tr th:only-of-type {\n",
       "        vertical-align: middle;\n",
       "    }\n",
       "\n",
       "    .dataframe tbody tr th {\n",
       "        vertical-align: top;\n",
       "    }\n",
       "\n",
       "    .dataframe thead th {\n",
       "        text-align: right;\n",
       "    }\n",
       "</style>\n",
       "<table border=\"1\" class=\"dataframe\">\n",
       "  <thead>\n",
       "    <tr style=\"text-align: right;\">\n",
       "      <th></th>\n",
       "      <th>Type</th>\n",
       "    </tr>\n",
       "  </thead>\n",
       "  <tbody>\n",
       "    <tr>\n",
       "      <th>0</th>\n",
       "      <td>1</td>\n",
       "    </tr>\n",
       "    <tr>\n",
       "      <th>1</th>\n",
       "      <td>1</td>\n",
       "    </tr>\n",
       "    <tr>\n",
       "      <th>2</th>\n",
       "      <td>1</td>\n",
       "    </tr>\n",
       "    <tr>\n",
       "      <th>3</th>\n",
       "      <td>2</td>\n",
       "    </tr>\n",
       "    <tr>\n",
       "      <th>4</th>\n",
       "      <td>1</td>\n",
       "    </tr>\n",
       "  </tbody>\n",
       "</table>\n",
       "</div>"
      ],
      "text/plain": [
       "   Type\n",
       "0     1\n",
       "1     1\n",
       "2     1\n",
       "3     2\n",
       "4     1"
      ]
     },
     "execution_count": 12,
     "metadata": {},
     "output_type": "execute_result"
    }
   ],
   "source": [
    "labeled_df = pd.DataFrame(labelencoded_set, columns=ORDINAL)\n",
    "labeled_df.head()"
   ]
  },
  {
   "cell_type": "code",
   "execution_count": 44,
   "metadata": {},
   "outputs": [],
   "source": [
    "def preprocessor(data: pd.DataFrame, to_train: bool) -> pd.DataFrame:\n",
    "    numerical_values = scale(data, to_train)\n",
    "    categorical_values = lencode(data, to_train)\n",
    "    scaled_df = pd.DataFrame(numerical_values, columns=NUMERICAL)\n",
    "    labeled_df = pd.DataFrame(categorical_values, columns=ORDINAL)\n",
    "    processed_data = pd.concat([scaled_df, labeled_df], axis=1)\n",
    "    return processed_data"
   ]
  },
  {
   "cell_type": "code",
   "execution_count": 13,
   "metadata": {},
   "outputs": [
    {
     "data": {
      "text/html": [
       "<div>\n",
       "<style scoped>\n",
       "    .dataframe tbody tr th:only-of-type {\n",
       "        vertical-align: middle;\n",
       "    }\n",
       "\n",
       "    .dataframe tbody tr th {\n",
       "        vertical-align: top;\n",
       "    }\n",
       "\n",
       "    .dataframe thead th {\n",
       "        text-align: right;\n",
       "    }\n",
       "</style>\n",
       "<table border=\"1\" class=\"dataframe\">\n",
       "  <thead>\n",
       "    <tr style=\"text-align: right;\">\n",
       "      <th></th>\n",
       "      <th>Air temperature [K]</th>\n",
       "      <th>Process temperature [K]</th>\n",
       "      <th>Rotational speed [rpm]</th>\n",
       "      <th>Torque [Nm]</th>\n",
       "      <th>Tool wear [min]</th>\n",
       "      <th>Type</th>\n",
       "    </tr>\n",
       "  </thead>\n",
       "  <tbody>\n",
       "    <tr>\n",
       "      <th>0</th>\n",
       "      <td>-0.854066</td>\n",
       "      <td>-0.609589</td>\n",
       "      <td>0.427634</td>\n",
       "      <td>-0.892696</td>\n",
       "      <td>1.375035</td>\n",
       "      <td>1</td>\n",
       "    </tr>\n",
       "    <tr>\n",
       "      <th>1</th>\n",
       "      <td>-0.904014</td>\n",
       "      <td>-1.080528</td>\n",
       "      <td>-0.834945</td>\n",
       "      <td>1.382187</td>\n",
       "      <td>0.457620</td>\n",
       "      <td>1</td>\n",
       "    </tr>\n",
       "    <tr>\n",
       "      <th>2</th>\n",
       "      <td>-0.904014</td>\n",
       "      <td>-1.484190</td>\n",
       "      <td>-0.059677</td>\n",
       "      <td>-0.892696</td>\n",
       "      <td>1.359218</td>\n",
       "      <td>1</td>\n",
       "    </tr>\n",
       "    <tr>\n",
       "      <th>3</th>\n",
       "      <td>0.444571</td>\n",
       "      <td>0.534121</td>\n",
       "      <td>0.333495</td>\n",
       "      <td>-0.702288</td>\n",
       "      <td>-1.598655</td>\n",
       "      <td>2</td>\n",
       "    </tr>\n",
       "    <tr>\n",
       "      <th>4</th>\n",
       "      <td>0.694309</td>\n",
       "      <td>0.332290</td>\n",
       "      <td>0.178441</td>\n",
       "      <td>-0.612094</td>\n",
       "      <td>1.580663</td>\n",
       "      <td>1</td>\n",
       "    </tr>\n",
       "  </tbody>\n",
       "</table>\n",
       "</div>"
      ],
      "text/plain": [
       "   Air temperature [K]  Process temperature [K]  Rotational speed [rpm]  \\\n",
       "0            -0.854066                -0.609589                0.427634   \n",
       "1            -0.904014                -1.080528               -0.834945   \n",
       "2            -0.904014                -1.484190               -0.059677   \n",
       "3             0.444571                 0.534121                0.333495   \n",
       "4             0.694309                 0.332290                0.178441   \n",
       "\n",
       "   Torque [Nm]  Tool wear [min]  Type  \n",
       "0    -0.892696         1.375035     1  \n",
       "1     1.382187         0.457620     1  \n",
       "2    -0.892696         1.359218     1  \n",
       "3    -0.702288        -1.598655     2  \n",
       "4    -0.612094         1.580663     1  "
      ]
     },
     "execution_count": 13,
     "metadata": {},
     "output_type": "execute_result"
    }
   ],
   "source": [
    "processed_df = pd.concat([scaled_df, labeled_df], axis=1)\n",
    "processed_df.head()"
   ]
  },
  {
   "cell_type": "code",
   "execution_count": 14,
   "metadata": {},
   "outputs": [
    {
     "name": "stdout",
     "output_type": "stream",
     "text": [
      "<class 'numpy.ndarray'>\n"
     ]
    },
    {
     "data": {
      "text/plain": [
       "array([0, 0, 0, ..., 0, 0, 0])"
      ]
     },
     "execution_count": 14,
     "metadata": {},
     "output_type": "execute_result"
    }
   ],
   "source": [
    "y_valuses = y_train[TARGET].values\n",
    "y_train_v = y_valuses.ravel()\n",
    "y_train_v"
   ]
  },
  {
   "cell_type": "code",
   "execution_count": 51,
   "metadata": {},
   "outputs": [
    {
     "name": "stdout",
     "output_type": "stream",
     "text": [
      "<class 'numpy.ndarray'>\n"
     ]
    }
   ],
   "source": [
    "print(type(to_oned(y_train[TARGET])))\n"
   ]
  },
  {
   "cell_type": "code",
   "execution_count": 35,
   "metadata": {},
   "outputs": [],
   "source": [
    "def predict(X: pd.DataFrame) -> np.ndarray: \n",
    "    model = joblib.load(MODEL_PATH)\n",
    "    predictions = model.predict(X)\n",
    "    predictions = np.around(predictions, 3)\n",
    "    return predictions"
   ]
  },
  {
   "cell_type": "code",
   "execution_count": 38,
   "metadata": {},
   "outputs": [],
   "source": [
    "def compute_accuracy(y_test: pd.DataFrame, y_pred:pd.DataFrame)-> dict:\n",
    "    accuracy = accuracy_score(y_test, y_pred)\n",
    "    precision = precision_score(y_test, y_pred)\n",
    "    recall = recall_score(y_test, y_pred)\n",
    "    auc = roc_auc_score(y_test, y_pred)\n",
    "    scores = {'Accuracy':accuracy, 'Precision':precision, 'Recall':recall, 'Auc':auc}\n",
    "    return scores"
   ]
  },
  {
   "cell_type": "code",
   "execution_count": null,
   "metadata": {},
   "outputs": [],
   "source": [
    "def model_fit(X_train: pd.DataFrame, y_train: np.ndarray) -> None:\n",
    "    model = RandomForestClassifier(random_state=42)\n",
    "    fitted_model = model.fit(X_train, y_train)\n",
    "    joblib.dump(fitted_model, MODEL_PATH)\n",
    "    return None"
   ]
  },
  {
   "cell_type": "code",
   "execution_count": 15,
   "metadata": {},
   "outputs": [
    {
     "data": {
      "text/plain": [
       "['../models/rfmodel.joblib']"
      ]
     },
     "execution_count": 15,
     "metadata": {},
     "output_type": "execute_result"
    }
   ],
   "source": [
    "rf_model = RandomForestClassifier(random_state=42)\n",
    "rf_model.fit(processed_df, y_train_v)\n",
    "joblib.dump(rf_model,MODEL_PATH)"
   ]
  },
  {
   "cell_type": "code",
   "execution_count": 36,
   "metadata": {},
   "outputs": [],
   "source": [
    "def model_train(data: pd.DataFrame) -> pd.DataFrame:\n",
    "    X_train, X_test, y_train, y_test = selected_split(data)\n",
    "    X_train_processed = preprocessor(X_train, True)\n",
    "    y_flaten = to_oned(y_train)\n",
    "    model_fit(X_train_processed, y_flaten)\n",
    "    return X_test, y_test"
   ]
  },
  {
   "cell_type": "markdown",
   "metadata": {},
   "source": [
    "Evalutaion "
   ]
  },
  {
   "cell_type": "code",
   "execution_count": 46,
   "metadata": {},
   "outputs": [],
   "source": [
    "def model_eval(X_test: pd.DataFrame, y_test: np.ndarray) -> dict:\n",
    "    X_test_processed = preprocessor(X_test, False)\n",
    "    predictions_test = predict(X_test_processed)\n",
    "    y_flaten = to_oned(y_test)\n",
    "    scores = compute_accuracy(y_flaten, predictions_test)\n",
    "    return scores"
   ]
  },
  {
   "cell_type": "code",
   "execution_count": 42,
   "metadata": {},
   "outputs": [],
   "source": [
    "def build_model(data: pd.DataFrame) -> dict:\n",
    "    X_test, y_test = model_train(data)\n",
    "    model_score = model_eval(X_test, y_test)\n",
    "    return model_score"
   ]
  },
  {
   "cell_type": "code",
   "execution_count": 16,
   "metadata": {},
   "outputs": [
    {
     "data": {
      "text/html": [
       "<div>\n",
       "<style scoped>\n",
       "    .dataframe tbody tr th:only-of-type {\n",
       "        vertical-align: middle;\n",
       "    }\n",
       "\n",
       "    .dataframe tbody tr th {\n",
       "        vertical-align: top;\n",
       "    }\n",
       "\n",
       "    .dataframe thead th {\n",
       "        text-align: right;\n",
       "    }\n",
       "</style>\n",
       "<table border=\"1\" class=\"dataframe\">\n",
       "  <thead>\n",
       "    <tr style=\"text-align: right;\">\n",
       "      <th></th>\n",
       "      <th>Air temperature [K]</th>\n",
       "      <th>Process temperature [K]</th>\n",
       "      <th>Rotational speed [rpm]</th>\n",
       "      <th>Torque [Nm]</th>\n",
       "      <th>Tool wear [min]</th>\n",
       "      <th>Type</th>\n",
       "    </tr>\n",
       "  </thead>\n",
       "  <tbody>\n",
       "    <tr>\n",
       "      <th>6252</th>\n",
       "      <td>300.8</td>\n",
       "      <td>310.3</td>\n",
       "      <td>1538</td>\n",
       "      <td>36.1</td>\n",
       "      <td>198</td>\n",
       "      <td>L</td>\n",
       "    </tr>\n",
       "    <tr>\n",
       "      <th>4684</th>\n",
       "      <td>303.6</td>\n",
       "      <td>311.8</td>\n",
       "      <td>1421</td>\n",
       "      <td>44.8</td>\n",
       "      <td>101</td>\n",
       "      <td>M</td>\n",
       "    </tr>\n",
       "    <tr>\n",
       "      <th>1731</th>\n",
       "      <td>298.3</td>\n",
       "      <td>307.9</td>\n",
       "      <td>1485</td>\n",
       "      <td>42.0</td>\n",
       "      <td>117</td>\n",
       "      <td>M</td>\n",
       "    </tr>\n",
       "    <tr>\n",
       "      <th>4742</th>\n",
       "      <td>303.3</td>\n",
       "      <td>311.3</td>\n",
       "      <td>1592</td>\n",
       "      <td>33.7</td>\n",
       "      <td>14</td>\n",
       "      <td>L</td>\n",
       "    </tr>\n",
       "    <tr>\n",
       "      <th>4521</th>\n",
       "      <td>302.4</td>\n",
       "      <td>310.4</td>\n",
       "      <td>1865</td>\n",
       "      <td>23.9</td>\n",
       "      <td>129</td>\n",
       "      <td>L</td>\n",
       "    </tr>\n",
       "  </tbody>\n",
       "</table>\n",
       "</div>"
      ],
      "text/plain": [
       "      Air temperature [K]  Process temperature [K]  Rotational speed [rpm]  \\\n",
       "6252                300.8                    310.3                    1538   \n",
       "4684                303.6                    311.8                    1421   \n",
       "1731                298.3                    307.9                    1485   \n",
       "4742                303.3                    311.3                    1592   \n",
       "4521                302.4                    310.4                    1865   \n",
       "\n",
       "      Torque [Nm]  Tool wear [min] Type  \n",
       "6252         36.1              198    L  \n",
       "4684         44.8              101    M  \n",
       "1731         42.0              117    M  \n",
       "4742         33.7               14    L  \n",
       "4521         23.9              129    L  "
      ]
     },
     "execution_count": 16,
     "metadata": {},
     "output_type": "execute_result"
    }
   ],
   "source": [
    "X_test.head()"
   ]
  },
  {
   "cell_type": "code",
   "execution_count": 17,
   "metadata": {},
   "outputs": [],
   "source": [
    "loaded_model = joblib.load(MODEL_PATH)\n",
    "loaded_scaler = joblib.load(SCALER_PATH)\n",
    "loaded_lencoder = joblib.load(LENCODER_PATH)"
   ]
  },
  {
   "cell_type": "code",
   "execution_count": 18,
   "metadata": {},
   "outputs": [],
   "source": [
    "num_scaled = loaded_scaler.transform(X_test[NUMERICAL])\n",
    "X_scaled_df = pd.DataFrame(num_scaled,columns=NUMERICAL)"
   ]
  },
  {
   "cell_type": "code",
   "execution_count": 19,
   "metadata": {},
   "outputs": [
    {
     "data": {
      "text/plain": [
       "array(['L', 'M', 'M', ..., 'L', 'L', 'M'], dtype=object)"
      ]
     },
     "execution_count": 19,
     "metadata": {},
     "output_type": "execute_result"
    }
   ],
   "source": [
    "X_ordvalues = np.array(X_test[ORDINAL])\n",
    "X_test_v = X_ordvalues.ravel()\n",
    "X_test_v"
   ]
  },
  {
   "cell_type": "code",
   "execution_count": 52,
   "metadata": {},
   "outputs": [
    {
     "data": {
      "text/plain": [
       "array(['L', 'M', 'M', ..., 'L', 'L', 'M'], dtype=object)"
      ]
     },
     "execution_count": 52,
     "metadata": {},
     "output_type": "execute_result"
    }
   ],
   "source": [
    "to_oned(X_test[ORDINAL])"
   ]
  },
  {
   "cell_type": "code",
   "execution_count": 55,
   "metadata": {},
   "outputs": [
    {
     "name": "stderr",
     "output_type": "stream",
     "text": [
      "/home/kuzhalogi/miniconda3/envs/my-env/lib/python3.9/site-packages/sklearn/preprocessing/_label.py:132: DataConversionWarning: A column-vector y was passed when a 1d array was expected. Please change the shape of y to (n_samples, ), for example using ravel().\n",
      "  y = column_or_1d(y, dtype=self.classes_.dtype, warn=True)\n"
     ]
    }
   ],
   "source": [
    "ord_labelled = loaded_lencoder.transform(X_test[ORDINAL])\n",
    "X_ord_df = pd.DataFrame(ord_labelled,columns=ORDINAL)"
   ]
  },
  {
   "cell_type": "code",
   "execution_count": 21,
   "metadata": {},
   "outputs": [
    {
     "data": {
      "text/html": [
       "<div>\n",
       "<style scoped>\n",
       "    .dataframe tbody tr th:only-of-type {\n",
       "        vertical-align: middle;\n",
       "    }\n",
       "\n",
       "    .dataframe tbody tr th {\n",
       "        vertical-align: top;\n",
       "    }\n",
       "\n",
       "    .dataframe thead th {\n",
       "        text-align: right;\n",
       "    }\n",
       "</style>\n",
       "<table border=\"1\" class=\"dataframe\">\n",
       "  <thead>\n",
       "    <tr style=\"text-align: right;\">\n",
       "      <th></th>\n",
       "      <th>Air temperature [K]</th>\n",
       "      <th>Process temperature [K]</th>\n",
       "      <th>Rotational speed [rpm]</th>\n",
       "      <th>Torque [Nm]</th>\n",
       "      <th>Tool wear [min]</th>\n",
       "      <th>Type</th>\n",
       "    </tr>\n",
       "  </thead>\n",
       "  <tbody>\n",
       "    <tr>\n",
       "      <th>0</th>\n",
       "      <td>0.394623</td>\n",
       "      <td>0.197736</td>\n",
       "      <td>-0.004301</td>\n",
       "      <td>-0.391621</td>\n",
       "      <td>1.422488</td>\n",
       "      <td>1</td>\n",
       "    </tr>\n",
       "    <tr>\n",
       "      <th>1</th>\n",
       "      <td>1.793155</td>\n",
       "      <td>1.206891</td>\n",
       "      <td>-0.652203</td>\n",
       "      <td>0.480251</td>\n",
       "      <td>-0.111810</td>\n",
       "      <td>2</td>\n",
       "    </tr>\n",
       "    <tr>\n",
       "      <th>2</th>\n",
       "      <td>-0.854066</td>\n",
       "      <td>-1.416913</td>\n",
       "      <td>-0.297795</td>\n",
       "      <td>0.199649</td>\n",
       "      <td>0.141270</td>\n",
       "      <td>2</td>\n",
       "    </tr>\n",
       "    <tr>\n",
       "      <th>3</th>\n",
       "      <td>1.643313</td>\n",
       "      <td>0.870506</td>\n",
       "      <td>0.294731</td>\n",
       "      <td>-0.632137</td>\n",
       "      <td>-1.487933</td>\n",
       "      <td>1</td>\n",
       "    </tr>\n",
       "    <tr>\n",
       "      <th>4</th>\n",
       "      <td>1.193784</td>\n",
       "      <td>0.265013</td>\n",
       "      <td>1.806503</td>\n",
       "      <td>-1.614245</td>\n",
       "      <td>0.331080</td>\n",
       "      <td>1</td>\n",
       "    </tr>\n",
       "  </tbody>\n",
       "</table>\n",
       "</div>"
      ],
      "text/plain": [
       "   Air temperature [K]  Process temperature [K]  Rotational speed [rpm]  \\\n",
       "0             0.394623                 0.197736               -0.004301   \n",
       "1             1.793155                 1.206891               -0.652203   \n",
       "2            -0.854066                -1.416913               -0.297795   \n",
       "3             1.643313                 0.870506                0.294731   \n",
       "4             1.193784                 0.265013                1.806503   \n",
       "\n",
       "   Torque [Nm]  Tool wear [min]  Type  \n",
       "0    -0.391621         1.422488     1  \n",
       "1     0.480251        -0.111810     2  \n",
       "2     0.199649         0.141270     2  \n",
       "3    -0.632137        -1.487933     1  \n",
       "4    -1.614245         0.331080     1  "
      ]
     },
     "execution_count": 21,
     "metadata": {},
     "output_type": "execute_result"
    }
   ],
   "source": [
    "X_processed = pd.concat([X_scaled_df, X_ord_df], axis=1)\n",
    "X_processed.head()"
   ]
  },
  {
   "cell_type": "code",
   "execution_count": 23,
   "metadata": {},
   "outputs": [],
   "source": [
    "y_pred = loaded_model.predict(X_processed)"
   ]
  },
  {
   "cell_type": "code",
   "execution_count": 47,
   "metadata": {},
   "outputs": [
    {
     "name": "stdout",
     "output_type": "stream",
     "text": [
      "<class 'numpy.ndarray'>\n"
     ]
    }
   ],
   "source": [
    "print(type(y_pred))"
   ]
  },
  {
   "cell_type": "code",
   "execution_count": 25,
   "metadata": {},
   "outputs": [
    {
     "data": {
      "text/plain": [
       "array([0, 1, 0, ..., 0, 1, 0])"
      ]
     },
     "execution_count": 25,
     "metadata": {},
     "output_type": "execute_result"
    }
   ],
   "source": [
    "y_test_val = y_test[TARGET].values\n",
    "y_test_v = y_test_val.ravel()\n",
    "y_test_v"
   ]
  },
  {
   "cell_type": "code",
   "execution_count": 26,
   "metadata": {},
   "outputs": [
    {
     "data": {
      "text/plain": [
       "{'Accuracy': 0.985,\n",
       " 'Precision': 0.8604651162790697,\n",
       " 'Recall': 0.6065573770491803,\n",
       " 'Auc': 0.8017314992517691}"
      ]
     },
     "execution_count": 26,
     "metadata": {},
     "output_type": "execute_result"
    }
   ],
   "source": [
    "evaluation_scores = compute_accuracy(y_test_v,y_pred)\n",
    "evaluation_scores"
   ]
  }
 ],
 "metadata": {
  "kernelspec": {
   "display_name": "my-env",
   "language": "python",
   "name": "python3"
  },
  "language_info": {
   "codemirror_mode": {
    "name": "ipython",
    "version": 3
   },
   "file_extension": ".py",
   "mimetype": "text/x-python",
   "name": "python",
   "nbconvert_exporter": "python",
   "pygments_lexer": "ipython3",
   "version": "3.9.18"
  }
 },
 "nbformat": 4,
 "nbformat_minor": 2
}
