{
 "cells": [
  {
   "cell_type": "markdown",
   "metadata": {},
   "source": [
    "# Main"
   ]
  },
  {
   "cell_type": "code",
   "execution_count": 2,
   "metadata": {},
   "outputs": [],
   "source": [
    "%load_ext autoreload\n",
    "%autoreload 2\n",
    "import sys"
   ]
  },
  {
   "cell_type": "code",
   "execution_count": 3,
   "metadata": {},
   "outputs": [],
   "source": [
    "sys.path.append('..')"
   ]
  },
  {
   "cell_type": "code",
   "execution_count": 4,
   "metadata": {},
   "outputs": [
    {
     "name": "stdout",
     "output_type": "stream",
     "text": [
      "{'Accuracy': 0.985, 'Precision': 0.8604651162790697, 'Recall': 0.6065573770491803, 'Auc': 0.8017314992517691}\n"
     ]
    }
   ],
   "source": [
    "import pandas as pd\n",
    "from equipfailpred.train import build_model\n",
    "training_data_df = pd.read_csv('../data/maintenance.csv')\n",
    "model_performance_dict = build_model(training_data_df)\n",
    "print(model_performance_dict)"
   ]
  },
  {
   "cell_type": "code",
   "execution_count": 5,
   "metadata": {},
   "outputs": [],
   "source": [
    "# import pandas as pd\n",
    "\n",
    "# # Read the original CSV file into a DataFrame\n",
    "# df = pd.read_csv('../data/maintenance-copy.csv')\n",
    "\n",
    "# # Drop the desired column\n",
    "# column_to_drop = 'column_name'  # Replace 'column_name' with the name of the column you want to drop\n",
    "# modified_df = df.drop(columns=['UDI', 'Target', 'Failure Type'])\n",
    "\n",
    "# # Save the modified DataFrame to a new CSV file\n",
    "# modified_df.to_csv('modified.csv', index=False)  # Set index=False to exclude row indices in the CSV file\n"
   ]
  },
  {
   "cell_type": "code",
   "execution_count": 6,
   "metadata": {},
   "outputs": [
    {
     "data": {
      "text/plain": [
       "Index(['UDI', 'Product ID', 'Type', 'Air temperature [K]',\n",
       "       'Process temperature [K]', 'Rotational speed [rpm]', 'Torque [Nm]',\n",
       "       'Tool wear [min]', 'Target', 'Failure Type'],\n",
       "      dtype='object')"
      ]
     },
     "execution_count": 6,
     "metadata": {},
     "output_type": "execute_result"
    }
   ],
   "source": [
    "training_data_df.columns"
   ]
  },
  {
   "cell_type": "code",
   "execution_count": 7,
   "metadata": {},
   "outputs": [
    {
     "data": {
      "text/plain": [
       "array([0, 0, 0, ..., 0, 0, 0])"
      ]
     },
     "execution_count": 7,
     "metadata": {},
     "output_type": "execute_result"
    }
   ],
   "source": [
    "import pandas as pd\n",
    "from equipfailpred.inference import make_predictions, selective_predict\n",
    "\n",
    "\n",
    "user_data_df = pd.read_csv('../data/maintenance.csv')\n",
    "predictions = make_predictions(user_data_df)\n",
    "predictions\n",
    "\n"
   ]
  },
  {
   "cell_type": "code",
   "execution_count": 8,
   "metadata": {},
   "outputs": [],
   "source": [
    "import numpy as np\n",
    "import matplotlib.pyplot as plt\n",
    "\n",
    "\n",
    "data = predictions\n",
    "def plot_targe_count(data):\n",
    "    unique, counts = np.unique(data, return_counts=True)\n",
    "    if len(unique) > 1:\n",
    "        bars = plt.bar(unique, counts, color=['green', 'red'])\n",
    "        plt.xlabel('Failure Status')\n",
    "        plt.ylabel('Count')\n",
    "        plt.title('Distribution of Failures')\n",
    "        plt.xticks(unique, ['Not Failure', 'Failure'])\n",
    "        for bar, count in zip(bars, counts):\n",
    "            plt.text(bar.get_x() + bar.get_width() / 2, bar.get_height(), str(count),\n",
    "                    ha='center', va='bottom', color='black')\n",
    "        plt.show()\n",
    "    else:\n",
    "        print(\"No failures detected\")"
   ]
  },
  {
   "cell_type": "code",
   "execution_count": 9,
   "metadata": {},
   "outputs": [],
   "source": [
    "X = ['Air temperature [K]', \n",
    "             'Process temperature [K]', \n",
    "             'Rotational speed [rpm]', \n",
    "             'Torque [Nm]', \n",
    "             'Tool wear [min]',\n",
    "             'Type']"
   ]
  },
  {
   "cell_type": "code",
   "execution_count": 10,
   "metadata": {},
   "outputs": [
    {
     "data": {
      "text/plain": [
       "array([0, 0, 0, ..., 0, 0, 0])"
      ]
     },
     "execution_count": 10,
     "metadata": {},
     "output_type": "execute_result"
    }
   ],
   "source": [
    "pred = selective_predict(X,user_data_df)\n",
    "pred"
   ]
  },
  {
   "cell_type": "code",
   "execution_count": 11,
   "metadata": {},
   "outputs": [
    {
     "data": {
      "image/png": "[encoded data removed]",
      "text/plain": [
       "<Figure size 640x480 with 1 Axes>"
      ]
     },
     "metadata": {},
     "output_type": "display_data"
    }
   ],
   "source": [
    "plot_targe_count(pred)"
   ]
  },
  {
   "cell_type": "code",
   "execution_count": 12,
   "metadata": {},
   "outputs": [],
   "source": [
    "sample_df = user_data_df[X].sample(n=6,random_state=42)\n",
    "sample_label = user_data_df['Target'].sample(n=6,random_state=42)"
   ]
  },
  {
   "cell_type": "code",
   "execution_count": 13,
   "metadata": {},
   "outputs": [
    {
     "data": {
      "text/plain": [
       "6252    0\n",
       "4684    1\n",
       "1731    0\n",
       "4742    0\n",
       "4521    0\n",
       "6340    1\n",
       "Name: Target, dtype: int64"
      ]
     },
     "execution_count": 13,
     "metadata": {},
     "output_type": "execute_result"
    }
   ],
   "source": [
    "sample_label"
   ]
  },
  {
   "cell_type": "code",
   "execution_count": 14,
   "metadata": {},
   "outputs": [
    {
     "data": {
      "text/html": [
       "<div>\n",
       "<style scoped>\n",
       "    .dataframe tbody tr th:only-of-type {\n",
       "        vertical-align: middle;\n",
       "    }\n",
       "\n",
       "    .dataframe tbody tr th {\n",
       "        vertical-align: top;\n",
       "    }\n",
       "\n",
       "    .dataframe thead th {\n",
       "        text-align: right;\n",
       "    }\n",
       "</style>\n",
       "<table border=\"1\" class=\"dataframe\">\n",
       "  <thead>\n",
       "    <tr style=\"text-align: right;\">\n",
       "      <th></th>\n",
       "      <th>Air temperature [K]</th>\n",
       "      <th>Process temperature [K]</th>\n",
       "      <th>Rotational speed [rpm]</th>\n",
       "      <th>Torque [Nm]</th>\n",
       "      <th>Tool wear [min]</th>\n",
       "      <th>Type</th>\n",
       "    </tr>\n",
       "  </thead>\n",
       "  <tbody>\n",
       "    <tr>\n",
       "      <th>6252</th>\n",
       "      <td>300.8</td>\n",
       "      <td>310.3</td>\n",
       "      <td>1538</td>\n",
       "      <td>36.1</td>\n",
       "      <td>198</td>\n",
       "      <td>L</td>\n",
       "    </tr>\n",
       "    <tr>\n",
       "      <th>4684</th>\n",
       "      <td>303.6</td>\n",
       "      <td>311.8</td>\n",
       "      <td>1421</td>\n",
       "      <td>44.8</td>\n",
       "      <td>101</td>\n",
       "      <td>M</td>\n",
       "    </tr>\n",
       "    <tr>\n",
       "      <th>1731</th>\n",
       "      <td>298.3</td>\n",
       "      <td>307.9</td>\n",
       "      <td>1485</td>\n",
       "      <td>42.0</td>\n",
       "      <td>117</td>\n",
       "      <td>M</td>\n",
       "    </tr>\n",
       "    <tr>\n",
       "      <th>4742</th>\n",
       "      <td>303.3</td>\n",
       "      <td>311.3</td>\n",
       "      <td>1592</td>\n",
       "      <td>33.7</td>\n",
       "      <td>14</td>\n",
       "      <td>L</td>\n",
       "    </tr>\n",
       "    <tr>\n",
       "      <th>4521</th>\n",
       "      <td>302.4</td>\n",
       "      <td>310.4</td>\n",
       "      <td>1865</td>\n",
       "      <td>23.9</td>\n",
       "      <td>129</td>\n",
       "      <td>L</td>\n",
       "    </tr>\n",
       "    <tr>\n",
       "      <th>6340</th>\n",
       "      <td>300.5</td>\n",
       "      <td>309.9</td>\n",
       "      <td>1397</td>\n",
       "      <td>45.9</td>\n",
       "      <td>210</td>\n",
       "      <td>H</td>\n",
       "    </tr>\n",
       "  </tbody>\n",
       "</table>\n",
       "</div>"
      ],
      "text/plain": [
       "      Air temperature [K]  Process temperature [K]  Rotational speed [rpm]  \\\n",
       "6252                300.8                    310.3                    1538   \n",
       "4684                303.6                    311.8                    1421   \n",
       "1731                298.3                    307.9                    1485   \n",
       "4742                303.3                    311.3                    1592   \n",
       "4521                302.4                    310.4                    1865   \n",
       "6340                300.5                    309.9                    1397   \n",
       "\n",
       "      Torque [Nm]  Tool wear [min] Type  \n",
       "6252         36.1              198    L  \n",
       "4684         44.8              101    M  \n",
       "1731         42.0              117    M  \n",
       "4742         33.7               14    L  \n",
       "4521         23.9              129    L  \n",
       "6340         45.9              210    H  "
      ]
     },
     "execution_count": 14,
     "metadata": {},
     "output_type": "execute_result"
    }
   ],
   "source": [
    "sample_df"
   ]
  },
  {
   "cell_type": "code",
   "execution_count": 15,
   "metadata": {},
   "outputs": [
    {
     "data": {
      "text/plain": [
       "array([0, 0, 0, 0, 0, 0])"
      ]
     },
     "execution_count": 15,
     "metadata": {},
     "output_type": "execute_result"
    }
   ],
   "source": [
    "s_pred = selective_predict(X,sample_df)\n",
    "s_pred"
   ]
  },
  {
   "cell_type": "code",
   "execution_count": 16,
   "metadata": {},
   "outputs": [
    {
     "name": "stdout",
     "output_type": "stream",
     "text": [
      "No failures detected\n"
     ]
    }
   ],
   "source": [
    "plot_targe_count(s_pred)"
   ]
  },
  {
   "cell_type": "markdown",
   "metadata": {},
   "source": [
    "298.1,308.6,1551,42.8,0,M"
   ]
  },
  {
   "cell_type": "code",
   "execution_count": 17,
   "metadata": {},
   "outputs": [
    {
     "data": {
      "text/html": [
       "<div>\n",
       "<style scoped>\n",
       "    .dataframe tbody tr th:only-of-type {\n",
       "        vertical-align: middle;\n",
       "    }\n",
       "\n",
       "    .dataframe tbody tr th {\n",
       "        vertical-align: top;\n",
       "    }\n",
       "\n",
       "    .dataframe thead th {\n",
       "        text-align: right;\n",
       "    }\n",
       "</style>\n",
       "<table border=\"1\" class=\"dataframe\">\n",
       "  <thead>\n",
       "    <tr style=\"text-align: right;\">\n",
       "      <th></th>\n",
       "      <th>Air temperature [K]</th>\n",
       "      <th>Process temperature [K]</th>\n",
       "      <th>Rotational speed [rpm]</th>\n",
       "      <th>Torque [Nm]</th>\n",
       "      <th>Tool wear [min]</th>\n",
       "      <th>Type</th>\n",
       "    </tr>\n",
       "  </thead>\n",
       "  <tbody>\n",
       "    <tr>\n",
       "      <th>6252</th>\n",
       "      <td>300.8</td>\n",
       "      <td>310.3</td>\n",
       "      <td>1538</td>\n",
       "      <td>36.1</td>\n",
       "      <td>198</td>\n",
       "      <td>L</td>\n",
       "    </tr>\n",
       "    <tr>\n",
       "      <th>4684</th>\n",
       "      <td>303.6</td>\n",
       "      <td>311.8</td>\n",
       "      <td>1421</td>\n",
       "      <td>44.8</td>\n",
       "      <td>101</td>\n",
       "      <td>M</td>\n",
       "    </tr>\n",
       "    <tr>\n",
       "      <th>1731</th>\n",
       "      <td>298.3</td>\n",
       "      <td>307.9</td>\n",
       "      <td>1485</td>\n",
       "      <td>42.0</td>\n",
       "      <td>117</td>\n",
       "      <td>M</td>\n",
       "    </tr>\n",
       "    <tr>\n",
       "      <th>4742</th>\n",
       "      <td>303.3</td>\n",
       "      <td>311.3</td>\n",
       "      <td>1592</td>\n",
       "      <td>33.7</td>\n",
       "      <td>14</td>\n",
       "      <td>L</td>\n",
       "    </tr>\n",
       "    <tr>\n",
       "      <th>4521</th>\n",
       "      <td>302.4</td>\n",
       "      <td>310.4</td>\n",
       "      <td>1865</td>\n",
       "      <td>23.9</td>\n",
       "      <td>129</td>\n",
       "      <td>L</td>\n",
       "    </tr>\n",
       "    <tr>\n",
       "      <th>6340</th>\n",
       "      <td>300.5</td>\n",
       "      <td>309.9</td>\n",
       "      <td>1397</td>\n",
       "      <td>45.9</td>\n",
       "      <td>210</td>\n",
       "      <td>H</td>\n",
       "    </tr>\n",
       "    <tr>\n",
       "      <th>6</th>\n",
       "      <td>298.1</td>\n",
       "      <td>308.6</td>\n",
       "      <td>6551</td>\n",
       "      <td>422.8</td>\n",
       "      <td>0</td>\n",
       "      <td>M</td>\n",
       "    </tr>\n",
       "  </tbody>\n",
       "</table>\n",
       "</div>"
      ],
      "text/plain": [
       "      Air temperature [K]  Process temperature [K]  Rotational speed [rpm]  \\\n",
       "6252                300.8                    310.3                    1538   \n",
       "4684                303.6                    311.8                    1421   \n",
       "1731                298.3                    307.9                    1485   \n",
       "4742                303.3                    311.3                    1592   \n",
       "4521                302.4                    310.4                    1865   \n",
       "6340                300.5                    309.9                    1397   \n",
       "6                   298.1                    308.6                    6551   \n",
       "\n",
       "      Torque [Nm]  Tool wear [min] Type  \n",
       "6252         36.1              198    L  \n",
       "4684         44.8              101    M  \n",
       "1731         42.0              117    M  \n",
       "4742         33.7               14    L  \n",
       "4521         23.9              129    L  \n",
       "6340         45.9              210    H  \n",
       "6           422.8                0    M  "
      ]
     },
     "execution_count": 17,
     "metadata": {},
     "output_type": "execute_result"
    }
   ],
   "source": [
    "new_row_values = [298.1,308.6,6551,422.8,0,'M']\n",
    "# df = sample_df.append(pd.Series(new_row_values, index=sample_df.columns), ignore_index=True)\n",
    "sample_df.loc[len(sample_df)] = new_row_values\n",
    "sample_df"
   ]
  },
  {
   "cell_type": "code",
   "execution_count": 18,
   "metadata": {},
   "outputs": [
    {
     "data": {
      "text/plain": [
       "array([0, 0, 0, 0, 0, 0, 1])"
      ]
     },
     "execution_count": 18,
     "metadata": {},
     "output_type": "execute_result"
    }
   ],
   "source": [
    "pres=make_predictions(sample_df)\n",
    "pres"
   ]
  },
  {
   "cell_type": "code",
   "execution_count": 19,
   "metadata": {},
   "outputs": [],
   "source": [
    "suma=sample_df"
   ]
  },
  {
   "cell_type": "code",
   "execution_count": 20,
   "metadata": {},
   "outputs": [],
   "source": [
    "suma['predictions'] = pres"
   ]
  },
  {
   "cell_type": "code",
   "execution_count": 21,
   "metadata": {},
   "outputs": [
    {
     "data": {
      "text/html": [
       "<div>\n",
       "<style scoped>\n",
       "    .dataframe tbody tr th:only-of-type {\n",
       "        vertical-align: middle;\n",
       "    }\n",
       "\n",
       "    .dataframe tbody tr th {\n",
       "        vertical-align: top;\n",
       "    }\n",
       "\n",
       "    .dataframe thead th {\n",
       "        text-align: right;\n",
       "    }\n",
       "</style>\n",
       "<table border=\"1\" class=\"dataframe\">\n",
       "  <thead>\n",
       "    <tr style=\"text-align: right;\">\n",
       "      <th></th>\n",
       "      <th>Air temperature [K]</th>\n",
       "      <th>Process temperature [K]</th>\n",
       "      <th>Rotational speed [rpm]</th>\n",
       "      <th>Torque [Nm]</th>\n",
       "      <th>Tool wear [min]</th>\n",
       "      <th>Type</th>\n",
       "      <th>predictions</th>\n",
       "    </tr>\n",
       "  </thead>\n",
       "  <tbody>\n",
       "    <tr>\n",
       "      <th>6252</th>\n",
       "      <td>300.8</td>\n",
       "      <td>310.3</td>\n",
       "      <td>1538</td>\n",
       "      <td>36.1</td>\n",
       "      <td>198</td>\n",
       "      <td>L</td>\n",
       "      <td>0</td>\n",
       "    </tr>\n",
       "    <tr>\n",
       "      <th>4684</th>\n",
       "      <td>303.6</td>\n",
       "      <td>311.8</td>\n",
       "      <td>1421</td>\n",
       "      <td>44.8</td>\n",
       "      <td>101</td>\n",
       "      <td>M</td>\n",
       "      <td>0</td>\n",
       "    </tr>\n",
       "    <tr>\n",
       "      <th>1731</th>\n",
       "      <td>298.3</td>\n",
       "      <td>307.9</td>\n",
       "      <td>1485</td>\n",
       "      <td>42.0</td>\n",
       "      <td>117</td>\n",
       "      <td>M</td>\n",
       "      <td>0</td>\n",
       "    </tr>\n",
       "    <tr>\n",
       "      <th>4742</th>\n",
       "      <td>303.3</td>\n",
       "      <td>311.3</td>\n",
       "      <td>1592</td>\n",
       "      <td>33.7</td>\n",
       "      <td>14</td>\n",
       "      <td>L</td>\n",
       "      <td>0</td>\n",
       "    </tr>\n",
       "    <tr>\n",
       "      <th>4521</th>\n",
       "      <td>302.4</td>\n",
       "      <td>310.4</td>\n",
       "      <td>1865</td>\n",
       "      <td>23.9</td>\n",
       "      <td>129</td>\n",
       "      <td>L</td>\n",
       "      <td>0</td>\n",
       "    </tr>\n",
       "    <tr>\n",
       "      <th>6340</th>\n",
       "      <td>300.5</td>\n",
       "      <td>309.9</td>\n",
       "      <td>1397</td>\n",
       "      <td>45.9</td>\n",
       "      <td>210</td>\n",
       "      <td>H</td>\n",
       "      <td>0</td>\n",
       "    </tr>\n",
       "    <tr>\n",
       "      <th>6</th>\n",
       "      <td>298.1</td>\n",
       "      <td>308.6</td>\n",
       "      <td>6551</td>\n",
       "      <td>422.8</td>\n",
       "      <td>0</td>\n",
       "      <td>M</td>\n",
       "      <td>1</td>\n",
       "    </tr>\n",
       "  </tbody>\n",
       "</table>\n",
       "</div>"
      ],
      "text/plain": [
       "      Air temperature [K]  Process temperature [K]  Rotational speed [rpm]  \\\n",
       "6252                300.8                    310.3                    1538   \n",
       "4684                303.6                    311.8                    1421   \n",
       "1731                298.3                    307.9                    1485   \n",
       "4742                303.3                    311.3                    1592   \n",
       "4521                302.4                    310.4                    1865   \n",
       "6340                300.5                    309.9                    1397   \n",
       "6                   298.1                    308.6                    6551   \n",
       "\n",
       "      Torque [Nm]  Tool wear [min] Type  predictions  \n",
       "6252         36.1              198    L            0  \n",
       "4684         44.8              101    M            0  \n",
       "1731         42.0              117    M            0  \n",
       "4742         33.7               14    L            0  \n",
       "4521         23.9              129    L            0  \n",
       "6340         45.9              210    H            0  \n",
       "6           422.8                0    M            1  "
      ]
     },
     "execution_count": 21,
     "metadata": {},
     "output_type": "execute_result"
    }
   ],
   "source": [
    "suma"
   ]
  },
  {
   "cell_type": "code",
   "execution_count": 22,
   "metadata": {},
   "outputs": [
    {
     "data": {
      "text/html": [
       "<div>\n",
       "<style scoped>\n",
       "    .dataframe tbody tr th:only-of-type {\n",
       "        vertical-align: middle;\n",
       "    }\n",
       "\n",
       "    .dataframe tbody tr th {\n",
       "        vertical-align: top;\n",
       "    }\n",
       "\n",
       "    .dataframe thead th {\n",
       "        text-align: right;\n",
       "    }\n",
       "</style>\n",
       "<table border=\"1\" class=\"dataframe\">\n",
       "  <thead>\n",
       "    <tr style=\"text-align: right;\">\n",
       "      <th></th>\n",
       "      <th>0</th>\n",
       "    </tr>\n",
       "  </thead>\n",
       "  <tbody>\n",
       "    <tr>\n",
       "      <th>0</th>\n",
       "      <td>298.1</td>\n",
       "    </tr>\n",
       "    <tr>\n",
       "      <th>1</th>\n",
       "      <td>308.6</td>\n",
       "    </tr>\n",
       "    <tr>\n",
       "      <th>2</th>\n",
       "      <td>6551</td>\n",
       "    </tr>\n",
       "    <tr>\n",
       "      <th>3</th>\n",
       "      <td>422.8</td>\n",
       "    </tr>\n",
       "    <tr>\n",
       "      <th>4</th>\n",
       "      <td>0</td>\n",
       "    </tr>\n",
       "    <tr>\n",
       "      <th>5</th>\n",
       "      <td>M</td>\n",
       "    </tr>\n",
       "  </tbody>\n",
       "</table>\n",
       "</div>"
      ],
      "text/plain": [
       "       0\n",
       "0  298.1\n",
       "1  308.6\n",
       "2   6551\n",
       "3  422.8\n",
       "4      0\n",
       "5      M"
      ]
     },
     "execution_count": 22,
     "metadata": {},
     "output_type": "execute_result"
    }
   ],
   "source": [
    "dnf = pd.DataFrame(new_row_values)\n",
    "dnf"
   ]
  },
  {
   "cell_type": "code",
   "execution_count": 23,
   "metadata": {},
   "outputs": [],
   "source": [
    "\n",
    "# Define the row values\n",
    "new_row_values = [298.1, 308.6, 7551, 422.8, 0, 'M']\n",
    "\n",
    "# Define the column names\n",
    "column_names = ['Air temperature [K]', 'Process temperature [K]', 'Rotational speed [rpm]', 'Torque [Nm]', 'Tool wear [min]', 'Type']\n",
    "\n",
    "# Create a DataFrame with a single row\n",
    "df = pd.DataFrame([new_row_values], columns=column_names)"
   ]
  },
  {
   "cell_type": "code",
   "execution_count": 24,
   "metadata": {},
   "outputs": [
    {
     "data": {
      "text/html": [
       "<div>\n",
       "<style scoped>\n",
       "    .dataframe tbody tr th:only-of-type {\n",
       "        vertical-align: middle;\n",
       "    }\n",
       "\n",
       "    .dataframe tbody tr th {\n",
       "        vertical-align: top;\n",
       "    }\n",
       "\n",
       "    .dataframe thead th {\n",
       "        text-align: right;\n",
       "    }\n",
       "</style>\n",
       "<table border=\"1\" class=\"dataframe\">\n",
       "  <thead>\n",
       "    <tr style=\"text-align: right;\">\n",
       "      <th></th>\n",
       "      <th>Air temperature [K]</th>\n",
       "      <th>Process temperature [K]</th>\n",
       "      <th>Rotational speed [rpm]</th>\n",
       "      <th>Torque [Nm]</th>\n",
       "      <th>Tool wear [min]</th>\n",
       "      <th>Type</th>\n",
       "    </tr>\n",
       "  </thead>\n",
       "  <tbody>\n",
       "    <tr>\n",
       "      <th>0</th>\n",
       "      <td>298.1</td>\n",
       "      <td>308.6</td>\n",
       "      <td>7551</td>\n",
       "      <td>422.8</td>\n",
       "      <td>0</td>\n",
       "      <td>M</td>\n",
       "    </tr>\n",
       "  </tbody>\n",
       "</table>\n",
       "</div>"
      ],
      "text/plain": [
       "   Air temperature [K]  Process temperature [K]  Rotational speed [rpm]  \\\n",
       "0                298.1                    308.6                    7551   \n",
       "\n",
       "   Torque [Nm]  Tool wear [min] Type  \n",
       "0        422.8                0    M  "
      ]
     },
     "execution_count": 24,
     "metadata": {},
     "output_type": "execute_result"
    }
   ],
   "source": [
    "df"
   ]
  },
  {
   "cell_type": "code",
   "execution_count": 25,
   "metadata": {},
   "outputs": [],
   "source": [
    "# Define the row values\n",
    "new_row_values = [298.1, 308.6, 9551, 622.8, 0, 'M']\n",
    "\n",
    "# Define the column names\n",
    "column_names = ['Air temperature [K]', 'Process temperature [K]', 'Rotational speed [rpm]', 'Torque [Nm]', 'Tool wear [min]', 'Type']\n",
    "\n",
    "# Create a DataFrame with a single row\n",
    "df = pd.DataFrame([new_row_values], columns=column_names)"
   ]
  },
  {
   "cell_type": "code",
   "execution_count": 26,
   "metadata": {},
   "outputs": [
    {
     "data": {
      "text/plain": [
       "1"
      ]
     },
     "execution_count": 26,
     "metadata": {},
     "output_type": "execute_result"
    }
   ],
   "source": [
    "len(df)"
   ]
  },
  {
   "cell_type": "code",
   "execution_count": 27,
   "metadata": {},
   "outputs": [],
   "source": [
    "dfp=make_predictions(df)"
   ]
  },
  {
   "cell_type": "code",
   "execution_count": 28,
   "metadata": {},
   "outputs": [
    {
     "data": {
      "text/plain": [
       "array([1])"
      ]
     },
     "execution_count": 28,
     "metadata": {},
     "output_type": "execute_result"
    }
   ],
   "source": [
    "dfp"
   ]
  },
  {
   "cell_type": "code",
   "execution_count": 53,
   "metadata": {},
   "outputs": [],
   "source": [
    "from datetime import datetime\n",
    "dt = datetime.now().date().strftime('%Y-%m-%d')"
   ]
  },
  {
   "cell_type": "code",
   "execution_count": 54,
   "metadata": {},
   "outputs": [
    {
     "data": {
      "text/plain": [
       "'2024-04-02'"
      ]
     },
     "execution_count": 54,
     "metadata": {},
     "output_type": "execute_result"
    }
   ],
   "source": [
    "dt"
   ]
  },
  {
   "cell_type": "code",
   "execution_count": 49,
   "metadata": {},
   "outputs": [
    {
     "data": {
      "text/plain": [
       "str"
      ]
     },
     "execution_count": 49,
     "metadata": {},
     "output_type": "execute_result"
    }
   ],
   "source": [
    "type(dt)"
   ]
  },
  {
   "cell_type": "code",
   "execution_count": 38,
   "metadata": {},
   "outputs": [
    {
     "data": {
      "text/plain": [
       "<function datetime.date>"
      ]
     },
     "execution_count": 38,
     "metadata": {},
     "output_type": "execute_result"
    }
   ],
   "source": []
  },
  {
   "cell_type": "code",
   "execution_count": 31,
   "metadata": {},
   "outputs": [],
   "source": [
    "from sqlalchemy import func\n",
    "datm = func.now()"
   ]
  },
  {
   "cell_type": "code",
   "execution_count": 32,
   "metadata": {},
   "outputs": [
    {
     "data": {
      "text/plain": [
       "<sqlalchemy.sql.functions.now at 0x784e6614cdc0; now>"
      ]
     },
     "execution_count": 32,
     "metadata": {},
     "output_type": "execute_result"
    }
   ],
   "source": [
    "datm"
   ]
  },
  {
   "cell_type": "code",
   "execution_count": 33,
   "metadata": {},
   "outputs": [
    {
     "name": "stdout",
     "output_type": "stream",
     "text": [
      "now()\n"
     ]
    }
   ],
   "source": [
    "print(datm)"
   ]
  },
  {
   "cell_type": "code",
   "execution_count": 55,
   "metadata": {},
   "outputs": [],
   "source": [
    "def list_to_str(lst):\n",
    "    \"\"\"\n",
    "    Converts a list to a string representation.\n",
    "    \n",
    "    Args:\n",
    "    lst (list): The list to convert.\n",
    "    \n",
    "    Returns:\n",
    "    str: A string representation of the list.\n",
    "    \"\"\"\n",
    "    return ', '.join(map(str, lst))"
   ]
  },
  {
   "cell_type": "code",
   "execution_count": 56,
   "metadata": {},
   "outputs": [
    {
     "name": "stdout",
     "output_type": "stream",
     "text": [
      "1, 2, 3, 4, 5\n"
     ]
    }
   ],
   "source": [
    "my_list = [1, 2, 3, 4, 5]\n",
    "result = list_to_str(my_list)\n",
    "print(result)  # Output: \"1, 2, 3, 4, 5\""
   ]
  },
  {
   "cell_type": "code",
   "execution_count": 57,
   "metadata": {},
   "outputs": [
    {
     "name": "stdout",
     "output_type": "stream",
     "text": [
      "<class 'str'>\n"
     ]
    }
   ],
   "source": [
    "print(type(result))"
   ]
  },
  {
   "cell_type": "code",
   "execution_count": 59,
   "metadata": {},
   "outputs": [],
   "source": [
    "nere = ', '.join(map(str, my_list))"
   ]
  },
  {
   "cell_type": "code",
   "execution_count": 61,
   "metadata": {},
   "outputs": [
    {
     "name": "stdout",
     "output_type": "stream",
     "text": [
      "<class 'str'>\n"
     ]
    }
   ],
   "source": [
    "print(type(nere))"
   ]
  },
  {
   "cell_type": "code",
   "execution_count": null,
   "metadata": {},
   "outputs": [],
   "source": []
  }
 ],
 "metadata": {
  "kernelspec": {
   "display_name": "my-env",
   "language": "python",
   "name": "python3"
  },
  "language_info": {
   "codemirror_mode": {
    "name": "ipython",
    "version": 3
   },
   "file_extension": ".py",
   "mimetype": "text/x-python",
   "name": "python",
   "nbconvert_exporter": "python",
   "pygments_lexer": "ipython3",
   "version": "3.9.18"
  }
 },
 "nbformat": 4,
 "nbformat_minor": 2
}
